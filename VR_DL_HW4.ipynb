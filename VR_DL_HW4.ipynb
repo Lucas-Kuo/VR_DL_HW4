{
  "nbformat": 4,
  "nbformat_minor": 0,
  "metadata": {
    "colab": {
      "name": "VR_DL_HW4.ipynb",
      "provenance": [],
      "collapsed_sections": [],
      "include_colab_link": true
    },
    "kernelspec": {
      "name": "python3",
      "display_name": "Python 3"
    },
    "language_info": {
      "name": "python"
    },
    "accelerator": "GPU"
  },
  "cells": [
    {
      "cell_type": "markdown",
      "metadata": {
        "id": "view-in-github",
        "colab_type": "text"
      },
      "source": [
        "<a href=\"https://colab.research.google.com/github/Lucas-Kuo/VR_DL_HW4/blob/main/VR_DL_HW4.ipynb\" target=\"_parent\"><img src=\"https://colab.research.google.com/assets/colab-badge.svg\" alt=\"Open In Colab\"/></a>"
      ]
    },
    {
      "cell_type": "code",
      "execution_count": null,
      "metadata": {
        "colab": {
          "base_uri": "https://localhost:8080/"
        },
        "id": "wuwNOg094E5l",
        "outputId": "14c2ccc6-e969-41d6-df41-a06d7872938b"
      },
      "outputs": [
        {
          "output_type": "stream",
          "name": "stdout",
          "text": [
            "Cloning into 'VR_DL_HW4'...\n",
            "remote: Enumerating objects: 66, done.\u001b[K\n",
            "remote: Counting objects: 100% (66/66), done.\u001b[K\n",
            "remote: Compressing objects: 100% (61/61), done.\u001b[K\n",
            "remote: Total 66 (delta 25), reused 0 (delta 0), pack-reused 0\u001b[K\n",
            "Unpacking objects: 100% (66/66), done.\n",
            "/content/VR_DL_HW4\n"
          ]
        }
      ],
      "source": [
        "!git clone https://github.com/Lucas-Kuo/VR_DL_HW4.git\n",
        "%cd VR_DL_HW4"
      ]
    },
    {
      "cell_type": "code",
      "source": [
        "!gdown --id 1GL_Rh1N-WjrvF_-YOKOyvq0zrV6TF4hb"
      ],
      "metadata": {
        "colab": {
          "base_uri": "https://localhost:8080/"
        },
        "id": "E9fPbEv75AyE",
        "outputId": "d74432ef-3e4b-4925-8ade-3e9e72d3a591"
      },
      "execution_count": null,
      "outputs": [
        {
          "output_type": "stream",
          "name": "stdout",
          "text": [
            "Downloading...\n",
            "From: https://drive.google.com/uc?id=1GL_Rh1N-WjrvF_-YOKOyvq0zrV6TF4hb\n",
            "To: /content/VR_DL_HW4/datasets.zip\n",
            "100% 62.1M/62.1M [00:00<00:00, 149MB/s] \n"
          ]
        }
      ]
    },
    {
      "cell_type": "code",
      "source": [
        "!unzip datasets.zip"
      ],
      "metadata": {
        "colab": {
          "base_uri": "https://localhost:8080/"
        },
        "id": "g5LGcBAl5TqJ",
        "outputId": "58b2aba8-e3da-46f8-bef2-024840246a7e"
      },
      "execution_count": null,
      "outputs": [
        {
          "output_type": "stream",
          "name": "stdout",
          "text": [
            "Archive:  datasets.zip\n",
            "   creating: testing_lr_images/\n",
            "   creating: testing_lr_images/testing_lr_images/\n",
            " extracting: testing_lr_images/testing_lr_images/00.png  \n",
            " extracting: testing_lr_images/testing_lr_images/01.png  \n",
            " extracting: testing_lr_images/testing_lr_images/02.png  \n",
            " extracting: testing_lr_images/testing_lr_images/03.png  \n",
            " extracting: testing_lr_images/testing_lr_images/04.png  \n",
            " extracting: testing_lr_images/testing_lr_images/05.png  \n",
            " extracting: testing_lr_images/testing_lr_images/06.png  \n",
            "  inflating: testing_lr_images/testing_lr_images/07.png  \n",
            " extracting: testing_lr_images/testing_lr_images/08.png  \n",
            "  inflating: testing_lr_images/testing_lr_images/09.png  \n",
            "  inflating: testing_lr_images/testing_lr_images/10.png  \n",
            " extracting: testing_lr_images/testing_lr_images/11.png  \n",
            " extracting: testing_lr_images/testing_lr_images/12.png  \n",
            "  inflating: testing_lr_images/testing_lr_images/13.png  \n",
            "   creating: training_hr_images/\n",
            "   creating: training_hr_images/training_hr_images/\n",
            "  inflating: training_hr_images/training_hr_images/100075.png  \n",
            "  inflating: training_hr_images/training_hr_images/100080.png  \n",
            "  inflating: training_hr_images/training_hr_images/100098.png  \n",
            "  inflating: training_hr_images/training_hr_images/103041.png  \n",
            "  inflating: training_hr_images/training_hr_images/104022.png  \n",
            "  inflating: training_hr_images/training_hr_images/105019.png  \n",
            "  inflating: training_hr_images/training_hr_images/105053.png  \n",
            "  inflating: training_hr_images/training_hr_images/106020.png  \n",
            "  inflating: training_hr_images/training_hr_images/106025.png  \n",
            "  inflating: training_hr_images/training_hr_images/108041.png  \n",
            "  inflating: training_hr_images/training_hr_images/108073.png  \n",
            "  inflating: training_hr_images/training_hr_images/109034.png  \n",
            "  inflating: training_hr_images/training_hr_images/112082.png  \n",
            "  inflating: training_hr_images/training_hr_images/113009.png  \n",
            " extracting: training_hr_images/training_hr_images/113016.png  \n",
            "  inflating: training_hr_images/training_hr_images/113044.png  \n",
            "  inflating: training_hr_images/training_hr_images/117054.png  \n",
            "  inflating: training_hr_images/training_hr_images/118020.png  \n",
            " extracting: training_hr_images/training_hr_images/118035.png  \n",
            " extracting: training_hr_images/training_hr_images/12003.png  \n",
            " extracting: training_hr_images/training_hr_images/12074.png  \n",
            " extracting: training_hr_images/training_hr_images/122048.png  \n",
            " extracting: training_hr_images/training_hr_images/124084.png  \n",
            " extracting: training_hr_images/training_hr_images/126039.png  \n",
            "  inflating: training_hr_images/training_hr_images/130034.png  \n",
            "  inflating: training_hr_images/training_hr_images/134008.png  \n",
            "  inflating: training_hr_images/training_hr_images/134052.png  \n",
            " extracting: training_hr_images/training_hr_images/135037.png  \n",
            " extracting: training_hr_images/training_hr_images/135069.png  \n",
            "  inflating: training_hr_images/training_hr_images/138032.png  \n",
            "  inflating: training_hr_images/training_hr_images/138078.png  \n",
            "  inflating: training_hr_images/training_hr_images/140055.png  \n",
            " extracting: training_hr_images/training_hr_images/140075.png  \n",
            "  inflating: training_hr_images/training_hr_images/144067.png  \n",
            " extracting: training_hr_images/training_hr_images/145014.png  \n",
            "  inflating: training_hr_images/training_hr_images/145053.png  \n",
            " extracting: training_hr_images/training_hr_images/147021.png  \n",
            "  inflating: training_hr_images/training_hr_images/147062.png  \n",
            "  inflating: training_hr_images/training_hr_images/15004.png  \n",
            "  inflating: training_hr_images/training_hr_images/15088.png  \n",
            "  inflating: training_hr_images/training_hr_images/151087.png  \n",
            " extracting: training_hr_images/training_hr_images/153077.png  \n",
            "  inflating: training_hr_images/training_hr_images/153093.png  \n",
            "  inflating: training_hr_images/training_hr_images/155060.png  \n",
            " extracting: training_hr_images/training_hr_images/156079.png  \n",
            "  inflating: training_hr_images/training_hr_images/157036.png  \n",
            "  inflating: training_hr_images/training_hr_images/159029.png  \n",
            "  inflating: training_hr_images/training_hr_images/159045.png  \n",
            "  inflating: training_hr_images/training_hr_images/159091.png  \n",
            "  inflating: training_hr_images/training_hr_images/16052.png  \n",
            "  inflating: training_hr_images/training_hr_images/161062.png  \n",
            "  inflating: training_hr_images/training_hr_images/163014.png  \n",
            "  inflating: training_hr_images/training_hr_images/163062.png  \n",
            " extracting: training_hr_images/training_hr_images/164074.png  \n",
            "  inflating: training_hr_images/training_hr_images/166081.png  \n",
            " extracting: training_hr_images/training_hr_images/169012.png  \n",
            "  inflating: training_hr_images/training_hr_images/170054.png  \n",
            " extracting: training_hr_images/training_hr_images/172032.png  \n",
            "  inflating: training_hr_images/training_hr_images/173036.png  \n",
            "  inflating: training_hr_images/training_hr_images/176019.png  \n",
            "  inflating: training_hr_images/training_hr_images/176035.png  \n",
            "  inflating: training_hr_images/training_hr_images/176039.png  \n",
            "  inflating: training_hr_images/training_hr_images/178054.png  \n",
            "  inflating: training_hr_images/training_hr_images/181018.png  \n",
            " extracting: training_hr_images/training_hr_images/181079.png  \n",
            "  inflating: training_hr_images/training_hr_images/181091.png  \n",
            "  inflating: training_hr_images/training_hr_images/183055.png  \n",
            "  inflating: training_hr_images/training_hr_images/183087.png  \n",
            "  inflating: training_hr_images/training_hr_images/187003.png  \n",
            " extracting: training_hr_images/training_hr_images/187029.png  \n",
            "  inflating: training_hr_images/training_hr_images/187039.png  \n",
            "  inflating: training_hr_images/training_hr_images/187071.png  \n",
            " extracting: training_hr_images/training_hr_images/187083.png  \n",
            "  inflating: training_hr_images/training_hr_images/188005.png  \n",
            "  inflating: training_hr_images/training_hr_images/188063.png  \n",
            "  inflating: training_hr_images/training_hr_images/188091.png  \n",
            " extracting: training_hr_images/training_hr_images/189003.png  \n",
            " extracting: training_hr_images/training_hr_images/189011.png  \n",
            "  inflating: training_hr_images/training_hr_images/196015.png  \n",
            "  inflating: training_hr_images/training_hr_images/198004.png  \n",
            "  inflating: training_hr_images/training_hr_images/198023.png  \n",
            "  inflating: training_hr_images/training_hr_images/198054.png  \n",
            " extracting: training_hr_images/training_hr_images/20008.png  \n",
            "  inflating: training_hr_images/training_hr_images/202012.png  \n",
            "  inflating: training_hr_images/training_hr_images/207056.png  \n",
            " extracting: training_hr_images/training_hr_images/209070.png  \n",
            "  inflating: training_hr_images/training_hr_images/2092.png  \n",
            "  inflating: training_hr_images/training_hr_images/216041.png  \n",
            "  inflating: training_hr_images/training_hr_images/216053.png  \n",
            "  inflating: training_hr_images/training_hr_images/216066.png  \n",
            "  inflating: training_hr_images/training_hr_images/22013.png  \n",
            "  inflating: training_hr_images/training_hr_images/22090.png  \n",
            "  inflating: training_hr_images/training_hr_images/22093.png  \n",
            "  inflating: training_hr_images/training_hr_images/225017.png  \n",
            "  inflating: training_hr_images/training_hr_images/227040.png  \n",
            "  inflating: training_hr_images/training_hr_images/227046.png  \n",
            "  inflating: training_hr_images/training_hr_images/23025.png  \n",
            "  inflating: training_hr_images/training_hr_images/23080.png  \n",
            " extracting: training_hr_images/training_hr_images/23084.png  \n",
            "  inflating: training_hr_images/training_hr_images/231015.png  \n",
            "  inflating: training_hr_images/training_hr_images/232038.png  \n",
            "  inflating: training_hr_images/training_hr_images/236017.png  \n",
            " extracting: training_hr_images/training_hr_images/238011.png  \n",
            "  inflating: training_hr_images/training_hr_images/239007.png  \n",
            " extracting: training_hr_images/training_hr_images/239096.png  \n",
            "  inflating: training_hr_images/training_hr_images/24004.png  \n",
            " extracting: training_hr_images/training_hr_images/24063.png  \n",
            "  inflating: training_hr_images/training_hr_images/242078.png  \n",
            "  inflating: training_hr_images/training_hr_images/245051.png  \n",
            " extracting: training_hr_images/training_hr_images/246016.png  \n",
            " extracting: training_hr_images/training_hr_images/246053.png  \n",
            "  inflating: training_hr_images/training_hr_images/247085.png  \n",
            "  inflating: training_hr_images/training_hr_images/249061.png  \n",
            "  inflating: training_hr_images/training_hr_images/249087.png  \n",
            "  inflating: training_hr_images/training_hr_images/25098.png  \n",
            " extracting: training_hr_images/training_hr_images/253036.png  \n",
            "  inflating: training_hr_images/training_hr_images/254033.png  \n",
            "  inflating: training_hr_images/training_hr_images/254054.png  \n",
            "  inflating: training_hr_images/training_hr_images/260081.png  \n",
            "  inflating: training_hr_images/training_hr_images/26031.png  \n",
            "  inflating: training_hr_images/training_hr_images/268002.png  \n",
            "  inflating: training_hr_images/training_hr_images/27059.png  \n",
            " extracting: training_hr_images/training_hr_images/271008.png  \n",
            " extracting: training_hr_images/training_hr_images/271031.png  \n",
            "  inflating: training_hr_images/training_hr_images/274007.png  \n",
            "  inflating: training_hr_images/training_hr_images/277095.png  \n",
            "  inflating: training_hr_images/training_hr_images/28075.png  \n",
            "  inflating: training_hr_images/training_hr_images/28096.png  \n",
            " extracting: training_hr_images/training_hr_images/285036.png  \n",
            "  inflating: training_hr_images/training_hr_images/286092.png  \n",
            "  inflating: training_hr_images/training_hr_images/292066.png  \n",
            "  inflating: training_hr_images/training_hr_images/293029.png  \n",
            "  inflating: training_hr_images/training_hr_images/299091.png  \n",
            "  inflating: training_hr_images/training_hr_images/301007.png  \n",
            " extracting: training_hr_images/training_hr_images/302003.png  \n",
            "  inflating: training_hr_images/training_hr_images/309004.png  \n",
            "  inflating: training_hr_images/training_hr_images/310007.png  \n",
            "  inflating: training_hr_images/training_hr_images/311068.png  \n",
            "  inflating: training_hr_images/training_hr_images/311081.png  \n",
            "  inflating: training_hr_images/training_hr_images/314016.png  \n",
            "  inflating: training_hr_images/training_hr_images/317080.png  \n",
            " extracting: training_hr_images/training_hr_images/323016.png  \n",
            "  inflating: training_hr_images/training_hr_images/326038.png  \n",
            "  inflating: training_hr_images/training_hr_images/33066.png  \n",
            " extracting: training_hr_images/training_hr_images/35008.png  \n",
            " extracting: training_hr_images/training_hr_images/35010.png  \n",
            " extracting: training_hr_images/training_hr_images/35058.png  \n",
            " extracting: training_hr_images/training_hr_images/35070.png  \n",
            "  inflating: training_hr_images/training_hr_images/35091.png  \n",
            " extracting: training_hr_images/training_hr_images/353013.png  \n",
            "  inflating: training_hr_images/training_hr_images/361084.png  \n",
            "  inflating: training_hr_images/training_hr_images/365025.png  \n",
            "  inflating: training_hr_images/training_hr_images/365073.png  \n",
            "  inflating: training_hr_images/training_hr_images/368016.png  \n",
            "  inflating: training_hr_images/training_hr_images/368078.png  \n",
            " extracting: training_hr_images/training_hr_images/370036.png  \n",
            "  inflating: training_hr_images/training_hr_images/372047.png  \n",
            "  inflating: training_hr_images/training_hr_images/374020.png  \n",
            "  inflating: training_hr_images/training_hr_images/374067.png  \n",
            " extracting: training_hr_images/training_hr_images/376001.png  \n",
            "  inflating: training_hr_images/training_hr_images/376020.png  \n",
            "  inflating: training_hr_images/training_hr_images/385028.png  \n",
            "  inflating: training_hr_images/training_hr_images/388016.png  \n",
            "  inflating: training_hr_images/training_hr_images/41004.png  \n",
            "  inflating: training_hr_images/training_hr_images/41025.png  \n",
            "  inflating: training_hr_images/training_hr_images/42044.png  \n",
            " extracting: training_hr_images/training_hr_images/42078.png  \n",
            "  inflating: training_hr_images/training_hr_images/43070.png  \n",
            " extracting: training_hr_images/training_hr_images/43083.png  \n",
            "  inflating: training_hr_images/training_hr_images/45077.png  \n",
            "  inflating: training_hr_images/training_hr_images/46076.png  \n",
            "  inflating: training_hr_images/training_hr_images/48055.png  \n",
            "  inflating: training_hr_images/training_hr_images/54005.png  \n",
            " extracting: training_hr_images/training_hr_images/55067.png  \n",
            "  inflating: training_hr_images/training_hr_images/55075.png  \n",
            "  inflating: training_hr_images/training_hr_images/56028.png  \n",
            "  inflating: training_hr_images/training_hr_images/59078.png  \n",
            " extracting: training_hr_images/training_hr_images/60079.png  \n",
            " extracting: training_hr_images/training_hr_images/61060.png  \n",
            "  inflating: training_hr_images/training_hr_images/61086.png  \n",
            " extracting: training_hr_images/training_hr_images/65010.png  \n",
            " extracting: training_hr_images/training_hr_images/65019.png  \n",
            " extracting: training_hr_images/training_hr_images/65074.png  \n",
            "  inflating: training_hr_images/training_hr_images/65132.png  \n",
            "  inflating: training_hr_images/training_hr_images/66039.png  \n",
            "  inflating: training_hr_images/training_hr_images/66075.png  \n",
            "  inflating: training_hr_images/training_hr_images/67079.png  \n",
            " extracting: training_hr_images/training_hr_images/68077.png  \n",
            "  inflating: training_hr_images/training_hr_images/71046.png  \n",
            "  inflating: training_hr_images/training_hr_images/76002.png  \n",
            "  inflating: training_hr_images/training_hr_images/78019.png  \n",
            "  inflating: training_hr_images/training_hr_images/80099.png  \n",
            " extracting: training_hr_images/training_hr_images/8049.png  \n",
            "  inflating: training_hr_images/training_hr_images/8143.png  \n",
            "  inflating: training_hr_images/training_hr_images/87065.png  \n",
            " extracting: training_hr_images/training_hr_images/90076.png  \n",
            "  inflating: training_hr_images/training_hr_images/92059.png  \n",
            "  inflating: training_hr_images/training_hr_images/94079.png  \n",
            " extracting: training_hr_images/training_hr_images/95006.png  \n",
            "  inflating: training_hr_images/training_hr_images/97017.png  \n",
            "  inflating: training_hr_images/training_hr_images/t1.png  \n",
            " extracting: training_hr_images/training_hr_images/t10.png  \n",
            " extracting: training_hr_images/training_hr_images/t11.png  \n",
            "  inflating: training_hr_images/training_hr_images/t12.png  \n",
            " extracting: training_hr_images/training_hr_images/t13.png  \n",
            " extracting: training_hr_images/training_hr_images/t14.png  \n",
            "  inflating: training_hr_images/training_hr_images/t15.png  \n",
            " extracting: training_hr_images/training_hr_images/t16.png  \n",
            " extracting: training_hr_images/training_hr_images/t17.png  \n",
            " extracting: training_hr_images/training_hr_images/t18.png  \n",
            " extracting: training_hr_images/training_hr_images/t19.png  \n",
            " extracting: training_hr_images/training_hr_images/t2.png  \n",
            "  inflating: training_hr_images/training_hr_images/t20.png  \n",
            " extracting: training_hr_images/training_hr_images/t21.png  \n",
            " extracting: training_hr_images/training_hr_images/t22.png  \n",
            " extracting: training_hr_images/training_hr_images/t23.png  \n",
            " extracting: training_hr_images/training_hr_images/t24.png  \n",
            " extracting: training_hr_images/training_hr_images/t25.png  \n",
            " extracting: training_hr_images/training_hr_images/t26.png  \n",
            " extracting: training_hr_images/training_hr_images/t27.png  \n",
            " extracting: training_hr_images/training_hr_images/t28.png  \n",
            " extracting: training_hr_images/training_hr_images/t29.png  \n",
            " extracting: training_hr_images/training_hr_images/t3.png  \n",
            " extracting: training_hr_images/training_hr_images/t30.png  \n",
            " extracting: training_hr_images/training_hr_images/t31.png  \n",
            " extracting: training_hr_images/training_hr_images/t32.png  \n",
            " extracting: training_hr_images/training_hr_images/t33.png  \n",
            "  inflating: training_hr_images/training_hr_images/t34.png  \n",
            "  inflating: training_hr_images/training_hr_images/t35.png  \n",
            "  inflating: training_hr_images/training_hr_images/t36.png  \n",
            " extracting: training_hr_images/training_hr_images/t37.png  \n",
            " extracting: training_hr_images/training_hr_images/t38.png  \n",
            " extracting: training_hr_images/training_hr_images/t39.png  \n",
            " extracting: training_hr_images/training_hr_images/t4.png  \n",
            " extracting: training_hr_images/training_hr_images/t40.png  \n",
            "  inflating: training_hr_images/training_hr_images/t42.png  \n",
            " extracting: training_hr_images/training_hr_images/t43.png  \n",
            " extracting: training_hr_images/training_hr_images/t44.png  \n",
            " extracting: training_hr_images/training_hr_images/t45.png  \n",
            " extracting: training_hr_images/training_hr_images/t46.png  \n",
            " extracting: training_hr_images/training_hr_images/t47.png  \n",
            " extracting: training_hr_images/training_hr_images/t48.png  \n",
            " extracting: training_hr_images/training_hr_images/t49.png  \n",
            "  inflating: training_hr_images/training_hr_images/t5.png  \n",
            " extracting: training_hr_images/training_hr_images/t50.png  \n",
            " extracting: training_hr_images/training_hr_images/t51.png  \n",
            " extracting: training_hr_images/training_hr_images/t52.png  \n",
            "  inflating: training_hr_images/training_hr_images/t53.png  \n",
            " extracting: training_hr_images/training_hr_images/t54.png  \n",
            "  inflating: training_hr_images/training_hr_images/t55.png  \n",
            "  inflating: training_hr_images/training_hr_images/t56.png  \n",
            "  inflating: training_hr_images/training_hr_images/t57.png  \n",
            " extracting: training_hr_images/training_hr_images/t58.png  \n",
            " extracting: training_hr_images/training_hr_images/t59.png  \n",
            " extracting: training_hr_images/training_hr_images/t6.png  \n",
            "  inflating: training_hr_images/training_hr_images/t60.png  \n",
            " extracting: training_hr_images/training_hr_images/t61.png  \n",
            " extracting: training_hr_images/training_hr_images/t62.png  \n",
            " extracting: training_hr_images/training_hr_images/t63.png  \n",
            "  inflating: training_hr_images/training_hr_images/t64.png  \n",
            "  inflating: training_hr_images/training_hr_images/t65.png  \n",
            " extracting: training_hr_images/training_hr_images/t66.png  \n",
            " extracting: training_hr_images/training_hr_images/t7.png  \n",
            " extracting: training_hr_images/training_hr_images/t8.png  \n",
            " extracting: training_hr_images/training_hr_images/t9.png  \n",
            " extracting: training_hr_images/training_hr_images/tt1.png  \n",
            " extracting: training_hr_images/training_hr_images/tt10.png  \n",
            "  inflating: training_hr_images/training_hr_images/tt12.png  \n",
            " extracting: training_hr_images/training_hr_images/tt13.png  \n",
            "  inflating: training_hr_images/training_hr_images/tt14.png  \n",
            " extracting: training_hr_images/training_hr_images/tt15.png  \n",
            "  inflating: training_hr_images/training_hr_images/tt16.png  \n",
            " extracting: training_hr_images/training_hr_images/tt17.png  \n",
            "  inflating: training_hr_images/training_hr_images/tt18.png  \n",
            "  inflating: training_hr_images/training_hr_images/tt19.png  \n",
            "  inflating: training_hr_images/training_hr_images/tt2.png  \n",
            " extracting: training_hr_images/training_hr_images/tt20.png  \n",
            " extracting: training_hr_images/training_hr_images/tt21.png  \n",
            " extracting: training_hr_images/training_hr_images/tt22.png  \n",
            " extracting: training_hr_images/training_hr_images/tt23.png  \n",
            "  inflating: training_hr_images/training_hr_images/tt24.png  \n",
            " extracting: training_hr_images/training_hr_images/tt25.png  \n",
            " extracting: training_hr_images/training_hr_images/tt26.png  \n",
            " extracting: training_hr_images/training_hr_images/tt27.png  \n",
            " extracting: training_hr_images/training_hr_images/tt3.png  \n",
            " extracting: training_hr_images/training_hr_images/tt4.png  \n",
            " extracting: training_hr_images/training_hr_images/tt5.png  \n",
            " extracting: training_hr_images/training_hr_images/tt6.png  \n",
            " extracting: training_hr_images/training_hr_images/tt7.png  \n",
            " extracting: training_hr_images/training_hr_images/tt8.png  \n",
            "  inflating: training_hr_images/training_hr_images/tt9.png  \n"
          ]
        }
      ]
    },
    {
      "cell_type": "markdown",
      "source": [
        "Split the original dataset into training and validation"
      ],
      "metadata": {
        "id": "RN2r1u4L-oqu"
      }
    },
    {
      "cell_type": "code",
      "source": [
        "!python3 split.py"
      ],
      "metadata": {
        "id": "4HPb_vgj-leJ",
        "colab": {
          "base_uri": "https://localhost:8080/"
        },
        "outputId": "f9f0e890-d384-48f5-de19-fa6c8bde4515"
      },
      "execution_count": null,
      "outputs": [
        {
          "output_type": "stream",
          "name": "stdout",
          "text": [
            "[INFO] Creating dataset/train directory...\n",
            "[INFO] Creating dataset/val directory...\n"
          ]
        }
      ]
    },
    {
      "cell_type": "code",
      "source": [
        "!mkdir output/\n",
        "%cd output/\n",
        "!gdown --id \n",
        "!unzip model.zip\n",
        "%cd .."
      ],
      "metadata": {
        "id": "hA_26EQ9l8B6"
      },
      "execution_count": null,
      "outputs": []
    },
    {
      "cell_type": "markdown",
      "source": [
        "Training the model"
      ],
      "metadata": {
        "id": "6r9r4ep7-yF-"
      }
    },
    {
      "cell_type": "code",
      "source": [
        "!python train.py"
      ],
      "metadata": {
        "id": "ldHiZgDR-wCx",
        "colab": {
          "base_uri": "https://localhost:8080/"
        },
        "outputId": "03b59f0b-0f2a-4a32-8474-3760babc81d3"
      },
      "execution_count": null,
      "outputs": [
        {
          "output_type": "stream",
          "name": "stdout",
          "text": [
            "[INFO] loading images from disk...\n",
            "2022-01-07 08:18:22.447965: W tensorflow/core/common_runtime/gpu/gpu_bfc_allocator.cc:39] Overriding allow_growth setting because the TF_FORCE_GPU_ALLOW_GROWTH environment variable is set. Original config value was 0.\n",
            "[INFO] preparing data loaders...\n",
            "[INFO] loading previous checkpoint...\n",
            "Epoch 1/150\n",
            "33/33 [==============================] - 13s 250ms/step - loss: 0.0045 - psnr: 23.4497 - val_loss: 0.0017 - val_psnr: 25.1491\n",
            "Epoch 2/150\n",
            "33/33 [==============================] - 5s 156ms/step - loss: 0.0018 - psnr: 27.1862 - val_loss: 0.0014 - val_psnr: 27.8209\n",
            "Traceback (most recent call last):\n",
            "  File \"train.py\", line 60, in <module>\n",
            "    H = model.fit(trainDS, validation_data=valDS, epochs=config.EPOCHS)\n",
            "  File \"/usr/local/lib/python3.7/dist-packages/keras/utils/traceback_utils.py\", line 64, in error_handler\n",
            "    return fn(*args, **kwargs)\n",
            "  File \"/usr/local/lib/python3.7/dist-packages/keras/engine/training.py\", line 1205, in fit\n",
            "    self.reset_metrics()\n",
            "KeyboardInterrupt\n"
          ]
        }
      ]
    },
    {
      "cell_type": "code",
      "source": [
        "!python inference.py"
      ],
      "metadata": {
        "colab": {
          "base_uri": "https://localhost:8080/"
        },
        "id": "t4SknrytjfgN",
        "outputId": "c3b0af29-3f32-4320-fa79-6b52d057adbb"
      },
      "execution_count": null,
      "outputs": [
        {
          "output_type": "stream",
          "name": "stdout",
          "text": [
            "[INFO] loading test images...\n",
            "[INFO] loading model...\n",
            "2022-01-07 07:52:45.587759: W tensorflow/core/common_runtime/gpu/gpu_bfc_allocator.cc:39] Overriding allow_growth setting because the TF_FORCE_GPU_ALLOW_GROWTH environment variable is set. Original config value was 0.\n",
            "[INFO] performing predictions...\n"
          ]
        }
      ]
    },
    {
      "cell_type": "code",
      "source": [
        "%cd answer/\n",
        "!zip ../answer.zip ./*\n",
        "%cd .."
      ],
      "metadata": {
        "colab": {
          "base_uri": "https://localhost:8080/"
        },
        "id": "kLSTJPYFkP5m",
        "outputId": "e0712f2a-81c7-4c98-a8af-6609acf5133f"
      },
      "execution_count": null,
      "outputs": [
        {
          "output_type": "stream",
          "name": "stdout",
          "text": [
            "/content/VR_DL_HW4/answer\n",
            "  adding: 00_pred.png (deflated 0%)\n",
            "  adding: 01_pred.png (deflated 0%)\n",
            "  adding: 02_pred.png (deflated 0%)\n",
            "  adding: 03_pred.png (deflated 0%)\n",
            "  adding: 04_pred.png (deflated 0%)\n",
            "  adding: 05_pred.png (deflated 0%)\n",
            "  adding: 06_pred.png (deflated 0%)\n",
            "  adding: 07_pred.png (deflated 0%)\n",
            "  adding: 08_pred.png (deflated 0%)\n",
            "  adding: 09_pred.png (deflated 0%)\n",
            "  adding: 10_pred.png (deflated 0%)\n",
            "  adding: 11_pred.png (deflated 0%)\n",
            "  adding: 12_pred.png (deflated 0%)\n",
            "  adding: 13_pred.png (deflated 0%)\n",
            "/content/VR_DL_HW4\n"
          ]
        }
      ]
    }
  ]
}